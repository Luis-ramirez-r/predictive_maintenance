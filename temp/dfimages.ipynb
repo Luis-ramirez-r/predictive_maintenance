{
 "cells": [
  {
   "cell_type": "code",
   "execution_count": 1,
   "metadata": {},
   "outputs": [
    {
     "name": "stdout",
     "output_type": "stream",
     "text": [
      "Collecting getdaft\n",
      "  Downloading getdaft-0.0.24-cp37-abi3-manylinux_2_17_x86_64.manylinux2014_x86_64.whl (4.8 MB)\n",
      "\u001b[2K     \u001b[90m━━━━━━━━━━━━━━━━━━━━━━━━━━━━━━━━━━━━━━━━\u001b[0m \u001b[32m4.8/4.8 MB\u001b[0m \u001b[31m25.7 MB/s\u001b[0m eta \u001b[36m0:00:00\u001b[0m00:01\u001b[0m00:01\u001b[0m\n",
      "\u001b[?25hRequirement already satisfied: fsspec[http] in /usr/local/python/3.10.4/lib/python3.10/site-packages (from getdaft) (2023.1.0)\n",
      "Requirement already satisfied: pydot in /usr/local/python/3.10.4/lib/python3.10/site-packages (from getdaft) (1.4.2)\n",
      "Requirement already satisfied: pyarrow in /usr/local/python/3.10.4/lib/python3.10/site-packages (from getdaft) (10.0.1)\n",
      "Requirement already satisfied: pandas in /home/codespace/.local/lib/python3.10/site-packages (from getdaft) (1.5.2)\n",
      "Collecting loguru\n",
      "  Downloading loguru-0.6.0-py3-none-any.whl (58 kB)\n",
      "\u001b[2K     \u001b[90m━━━━━━━━━━━━━━━━━━━━━━━━━━━━━━━━━━━━━━━━\u001b[0m \u001b[32m58.3/58.3 kB\u001b[0m \u001b[31m2.4 MB/s\u001b[0m eta \u001b[36m0:00:00\u001b[0m\n",
      "\u001b[?25hRequirement already satisfied: tabulate in /usr/local/python/3.10.4/lib/python3.10/site-packages (from getdaft) (0.9.0)\n",
      "Requirement already satisfied: polars[timezone]<0.16.0 in /usr/local/python/3.10.4/lib/python3.10/site-packages (from getdaft) (0.15.16)\n",
      "Requirement already satisfied: numpy<1.24 in /usr/local/python/3.10.4/lib/python3.10/site-packages (from getdaft) (1.21.6)\n",
      "Requirement already satisfied: psutil in /home/codespace/.local/lib/python3.10/site-packages (from getdaft) (5.9.4)\n",
      "Requirement already satisfied: protobuf>=3.19.0 in /usr/local/python/3.10.4/lib/python3.10/site-packages (from getdaft) (4.21.12)\n",
      "Requirement already satisfied: requests in /home/codespace/.local/lib/python3.10/site-packages (from fsspec[http]->getdaft) (2.28.1)\n",
      "Requirement already satisfied: aiohttp!=4.0.0a0,!=4.0.0a1 in /usr/local/python/3.10.4/lib/python3.10/site-packages (from fsspec[http]->getdaft) (3.8.3)\n",
      "Requirement already satisfied: python-dateutil>=2.8.1 in /home/codespace/.local/lib/python3.10/site-packages (from pandas->getdaft) (2.8.2)\n",
      "Requirement already satisfied: pytz>=2020.1 in /home/codespace/.local/lib/python3.10/site-packages (from pandas->getdaft) (2022.7)\n",
      "Requirement already satisfied: pyparsing>=2.1.4 in /home/codespace/.local/lib/python3.10/site-packages (from pydot->getdaft) (3.0.9)\n",
      "Requirement already satisfied: attrs>=17.3.0 in /home/codespace/.local/lib/python3.10/site-packages (from aiohttp!=4.0.0a0,!=4.0.0a1->fsspec[http]->getdaft) (22.1.0)\n",
      "Requirement already satisfied: charset-normalizer<3.0,>=2.0 in /home/codespace/.local/lib/python3.10/site-packages (from aiohttp!=4.0.0a0,!=4.0.0a1->fsspec[http]->getdaft) (2.1.1)\n",
      "Requirement already satisfied: yarl<2.0,>=1.0 in /usr/local/python/3.10.4/lib/python3.10/site-packages (from aiohttp!=4.0.0a0,!=4.0.0a1->fsspec[http]->getdaft) (1.8.2)\n",
      "Requirement already satisfied: async-timeout<5.0,>=4.0.0a3 in /usr/local/python/3.10.4/lib/python3.10/site-packages (from aiohttp!=4.0.0a0,!=4.0.0a1->fsspec[http]->getdaft) (4.0.2)\n",
      "Requirement already satisfied: frozenlist>=1.1.1 in /usr/local/python/3.10.4/lib/python3.10/site-packages (from aiohttp!=4.0.0a0,!=4.0.0a1->fsspec[http]->getdaft) (1.3.3)\n",
      "Requirement already satisfied: aiosignal>=1.1.2 in /usr/local/python/3.10.4/lib/python3.10/site-packages (from aiohttp!=4.0.0a0,!=4.0.0a1->fsspec[http]->getdaft) (1.3.1)\n",
      "Requirement already satisfied: multidict<7.0,>=4.5 in /usr/local/python/3.10.4/lib/python3.10/site-packages (from aiohttp!=4.0.0a0,!=4.0.0a1->fsspec[http]->getdaft) (6.0.4)\n",
      "Requirement already satisfied: six>=1.5 in /home/codespace/.local/lib/python3.10/site-packages (from python-dateutil>=2.8.1->pandas->getdaft) (1.16.0)\n",
      "Requirement already satisfied: idna<4,>=2.5 in /home/codespace/.local/lib/python3.10/site-packages (from requests->fsspec[http]->getdaft) (3.4)\n",
      "Requirement already satisfied: urllib3<1.27,>=1.21.1 in /home/codespace/.local/lib/python3.10/site-packages (from requests->fsspec[http]->getdaft) (1.26.13)\n",
      "Requirement already satisfied: certifi>=2017.4.17 in /home/codespace/.local/lib/python3.10/site-packages (from requests->fsspec[http]->getdaft) (2022.12.7)\n",
      "Installing collected packages: loguru, getdaft\n",
      "Successfully installed getdaft-0.0.24 loguru-0.6.0\n",
      "\n",
      "\u001b[1m[\u001b[0m\u001b[34;49mnotice\u001b[0m\u001b[1;39;49m]\u001b[0m\u001b[39;49m A new release of pip is available: \u001b[0m\u001b[31;49m23.0\u001b[0m\u001b[39;49m -> \u001b[0m\u001b[32;49m23.0.1\u001b[0m\n",
      "\u001b[1m[\u001b[0m\u001b[34;49mnotice\u001b[0m\u001b[1;39;49m]\u001b[0m\u001b[39;49m To update, run: \u001b[0m\u001b[32;49mpython -m pip install --upgrade pip\u001b[0m\n"
     ]
    }
   ],
   "source": [
    "!pip install getdaft\n"
   ]
  },
  {
   "cell_type": "code",
   "execution_count": 5,
   "metadata": {},
   "outputs": [],
   "source": [
    "from daft import DataFrame\n",
    "import datetime\n",
    "\n"
   ]
  },
  {
   "cell_type": "code",
   "execution_count": 6,
   "metadata": {},
   "outputs": [
    {
     "name": "stderr",
     "output_type": "stream",
     "text": [
      "2023-03-24 16:52:38.597 | INFO     | daft.context:runner:88 - Using PyRunner\n"
     ]
    }
   ],
   "source": [
    "df = DataFrame.from_pydict({\n",
    "    \"A\": [1, 2, 3, 4],\n",
    "    \"B\": [1.5, 2.5, 3.5, 4.5],\n",
    "    \"C\": [True, True, False, False],\n",
    "    \"D\": [\"a\", \"b\", \"c\", \"d\"],\n",
    "    \"E\": [b\"a\", b\"b\", b\"c\", b\"d\"],\n",
    "    \"F\": [datetime.date(1994, 1, 1), datetime.date(1994, 1, 2), datetime.date(1994, 1, 3), datetime.date(1994, 1, 4)],\n",
    "    \"G\": [[1, 1, 1], [2, 2, 2], [3, 3, 3], [4, 4, 4]],\n",
    "})"
   ]
  },
  {
   "cell_type": "code",
   "execution_count": 7,
   "metadata": {},
   "outputs": [
    {
     "data": {
      "text/html": [
       "<div>\n",
       "    <table class=\"dataframe\">\n",
       "<tbody>\n",
       "<tr><td>A<br>INTEGER</td><td>B<br>FLOAT</td><td>C<br>LOGICAL</td><td>D<br>STRING</td><td>E<br>BYTES</td><td>F<br>DATE</td><td>G<br>PY[list]</td></tr>\n",
       "</tbody>\n",
       "</table>\n",
       "    <small>(No data to display: Dataframe not materialized)</small>\n",
       "</div>"
      ],
      "text/plain": [
       "+-----------+---------+-----------+----------+---------+--------+------------+\n",
       "| A         | B       | C         | D        | E       | F      | G          |\n",
       "| INTEGER   | FLOAT   | LOGICAL   | STRING   | BYTES   | DATE   | PY[list]   |\n",
       "+===========+=========+===========+==========+=========+========+============+\n",
       "+-----------+---------+-----------+----------+---------+--------+------------+\n",
       "(No data to display: Dataframe not materialized)"
      ]
     },
     "execution_count": 7,
     "metadata": {},
     "output_type": "execute_result"
    }
   ],
   "source": [
    "df"
   ]
  },
  {
   "cell_type": "code",
   "execution_count": null,
   "metadata": {},
   "outputs": [],
   "source": []
  }
 ],
 "metadata": {
  "kernelspec": {
   "display_name": "Python 3",
   "language": "python",
   "name": "python3"
  },
  "language_info": {
   "codemirror_mode": {
    "name": "ipython",
    "version": 3
   },
   "file_extension": ".py",
   "mimetype": "text/x-python",
   "name": "python",
   "nbconvert_exporter": "python",
   "pygments_lexer": "ipython3",
   "version": "3.10.4"
  },
  "orig_nbformat": 4
 },
 "nbformat": 4,
 "nbformat_minor": 2
}
