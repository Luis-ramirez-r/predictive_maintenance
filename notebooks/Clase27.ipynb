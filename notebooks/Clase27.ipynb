{
 "cells": [
  {
   "cell_type": "code",
   "execution_count": 10,
   "metadata": {},
   "outputs": [],
   "source": [
    "#!pip install duckdb==0.6.1"
   ]
  },
  {
   "cell_type": "markdown",
   "metadata": {},
   "source": []
  },
  {
   "cell_type": "code",
   "execution_count": 12,
   "metadata": {},
   "outputs": [],
   "source": [
    "import pandas as pd \n",
    "import numpy as np\n",
    "import json "
   ]
  },
  {
   "cell_type": "code",
   "execution_count": 15,
   "metadata": {},
   "outputs": [],
   "source": [
    "json_file_path = \"/workspaces/predictive_maintenance/data/other/ejemplo_1.json\"\n",
    "sqlpath = \"/workspaces/predictive_maintenance/data/other/nba_salary.sqlite\""
   ]
  },
  {
   "attachments": {},
   "cell_type": "markdown",
   "metadata": {},
   "source": [
    "## Leer archivos json"
   ]
  },
  {
   "cell_type": "code",
   "execution_count": 16,
   "metadata": {},
   "outputs": [
    {
     "data": {
      "text/plain": [
       "{'Duration': {'0': 60, '1': 60, '2': 60, '3': 45, '4': 45, '5': 60},\n",
       " 'Pulse': {'0': 110, '1': 117, '2': 103, '3': 109, '4': 117, '5': 102},\n",
       " 'Maxpulse': {'0': 130, '1': 145, '2': 135, '3': 175, '4': 148, '5': 127},\n",
       " 'Calories': {'0': 409, '1': 479, '2': 340, '3': 282, '4': 406, '5': 300}}"
      ]
     },
     "execution_count": 16,
     "metadata": {},
     "output_type": "execute_result"
    }
   ],
   "source": [
    "file_json=open(json_file_path)\n",
    "data=json.load(file_json)\n",
    "data"
   ]
  },
  {
   "cell_type": "code",
   "execution_count": 40,
   "metadata": {},
   "outputs": [
    {
     "data": {
      "text/plain": [
       "{'Duration': {'0': 60, '1': 60, '2': 60, '3': 45, '4': 45, '5': 60},\n",
       " 'Pulse': {'0': 110, '1': 117, '2': 103, '3': 109, '4': 117, '5': 102},\n",
       " 'Maxpulse': {'0': 130, '1': 145, '2': 135, '3': 175, '4': 148, '5': 127},\n",
       " 'Calories': {'0': 409, '1': 479, '2': 340, '3': 282, '4': 406, '5': 300}}"
      ]
     },
     "execution_count": 40,
     "metadata": {},
     "output_type": "execute_result"
    }
   ],
   "source": [
    "with open(json_file_path) as f:\n",
    "    data = json.load(f)\n",
    "data "
   ]
  },
  {
   "cell_type": "code",
   "execution_count": 41,
   "metadata": {},
   "outputs": [
    {
     "data": {
      "text/html": [
       "<div>\n",
       "<style scoped>\n",
       "    .dataframe tbody tr th:only-of-type {\n",
       "        vertical-align: middle;\n",
       "    }\n",
       "\n",
       "    .dataframe tbody tr th {\n",
       "        vertical-align: top;\n",
       "    }\n",
       "\n",
       "    .dataframe thead th {\n",
       "        text-align: right;\n",
       "    }\n",
       "</style>\n",
       "<table border=\"1\" class=\"dataframe\">\n",
       "  <thead>\n",
       "    <tr style=\"text-align: right;\">\n",
       "      <th></th>\n",
       "      <th>Duration</th>\n",
       "      <th>Pulse</th>\n",
       "      <th>Maxpulse</th>\n",
       "      <th>Calories</th>\n",
       "    </tr>\n",
       "  </thead>\n",
       "  <tbody>\n",
       "    <tr>\n",
       "      <th>0</th>\n",
       "      <td>60</td>\n",
       "      <td>110</td>\n",
       "      <td>130</td>\n",
       "      <td>409</td>\n",
       "    </tr>\n",
       "    <tr>\n",
       "      <th>1</th>\n",
       "      <td>60</td>\n",
       "      <td>117</td>\n",
       "      <td>145</td>\n",
       "      <td>479</td>\n",
       "    </tr>\n",
       "    <tr>\n",
       "      <th>2</th>\n",
       "      <td>60</td>\n",
       "      <td>103</td>\n",
       "      <td>135</td>\n",
       "      <td>340</td>\n",
       "    </tr>\n",
       "    <tr>\n",
       "      <th>3</th>\n",
       "      <td>45</td>\n",
       "      <td>109</td>\n",
       "      <td>175</td>\n",
       "      <td>282</td>\n",
       "    </tr>\n",
       "    <tr>\n",
       "      <th>4</th>\n",
       "      <td>45</td>\n",
       "      <td>117</td>\n",
       "      <td>148</td>\n",
       "      <td>406</td>\n",
       "    </tr>\n",
       "  </tbody>\n",
       "</table>\n",
       "</div>"
      ],
      "text/plain": [
       "   Duration  Pulse  Maxpulse  Calories\n",
       "0        60    110       130       409\n",
       "1        60    117       145       479\n",
       "2        60    103       135       340\n",
       "3        45    109       175       282\n",
       "4        45    117       148       406"
      ]
     },
     "execution_count": 41,
     "metadata": {},
     "output_type": "execute_result"
    }
   ],
   "source": [
    "# {‘split’, ‘records’, ‘index’, ‘table’}.\n",
    "\n",
    "df=pd.read_json(json_file_path,orient='column')\n",
    "\n",
    "df.head()"
   ]
  },
  {
   "cell_type": "code",
   "execution_count": null,
   "metadata": {},
   "outputs": [],
   "source": []
  },
  {
   "attachments": {},
   "cell_type": "markdown",
   "metadata": {},
   "source": [
    "### Pandas soporta varios formatos de archivos Json"
   ]
  },
  {
   "cell_type": "code",
   "execution_count": 53,
   "metadata": {},
   "outputs": [],
   "source": [
    "df.to_json('../data/other/ejemplo_1_split.json',orient='split') \n",
    "df.to_json('../data/other/ejemplo_1_records.json',orient='records')\n",
    "df.to_json('../data/other/ejemplo_1_index.json',orient='index')\n",
    "df.to_json('../data/other/ejemplo_1_table.json',orient='table')"
   ]
  },
  {
   "cell_type": "code",
   "execution_count": 54,
   "metadata": {},
   "outputs": [],
   "source": [
    "#df=pd.read_json('../data/other/ejemplo_1_records.json',orient='column')\n",
    "#df.head()"
   ]
  },
  {
   "cell_type": "code",
   "execution_count": 55,
   "metadata": {},
   "outputs": [],
   "source": [
    "#df=pd.read_json('../data/other/ejemplo_1_index.json',orient='column')\n",
    "#df.head()"
   ]
  },
  {
   "cell_type": "code",
   "execution_count": 58,
   "metadata": {},
   "outputs": [],
   "source": [
    "#df=pd.read_json('../data/other/ejemplo_1_table.json',orient='column')\n",
    "#df.head()"
   ]
  },
  {
   "attachments": {},
   "cell_type": "markdown",
   "metadata": {},
   "source": [
    "## Sqlite  y Pandas"
   ]
  },
  {
   "cell_type": "code",
   "execution_count": 59,
   "metadata": {},
   "outputs": [
    {
     "data": {
      "text/html": [
       "<div>\n",
       "<style scoped>\n",
       "    .dataframe tbody tr th:only-of-type {\n",
       "        vertical-align: middle;\n",
       "    }\n",
       "\n",
       "    .dataframe tbody tr th {\n",
       "        vertical-align: top;\n",
       "    }\n",
       "\n",
       "    .dataframe thead th {\n",
       "        text-align: right;\n",
       "    }\n",
       "</style>\n",
       "<table border=\"1\" class=\"dataframe\">\n",
       "  <thead>\n",
       "    <tr style=\"text-align: right;\">\n",
       "      <th></th>\n",
       "      <th>name</th>\n",
       "    </tr>\n",
       "  </thead>\n",
       "  <tbody>\n",
       "    <tr>\n",
       "      <th>0</th>\n",
       "      <td>NBA_season1718_salary</td>\n",
       "    </tr>\n",
       "    <tr>\n",
       "      <th>1</th>\n",
       "      <td>Seasons_Stats</td>\n",
       "    </tr>\n",
       "  </tbody>\n",
       "</table>\n",
       "</div>"
      ],
      "text/plain": [
       "                    name\n",
       "0  NBA_season1718_salary\n",
       "1          Seasons_Stats"
      ]
     },
     "execution_count": 59,
     "metadata": {},
     "output_type": "execute_result"
    }
   ],
   "source": [
    "# read a sqlite database into a pandas DataFrame \n",
    "import sqlite3 \n",
    "\n",
    "sql= \"SELECT name FROM sqlite_master WHERE type='table'\"\n",
    "# Leer el archivo sqllite y convertirlo a dataframe\n",
    "con =sqlite3.connect(sqlpath)\n",
    "df=pd.read_sql_query(sql,con)\n",
    "\n",
    "df"
   ]
  },
  {
   "cell_type": "code",
   "execution_count": 60,
   "metadata": {},
   "outputs": [
    {
     "data": {
      "text/html": [
       "<div>\n",
       "<style scoped>\n",
       "    .dataframe tbody tr th:only-of-type {\n",
       "        vertical-align: middle;\n",
       "    }\n",
       "\n",
       "    .dataframe tbody tr th {\n",
       "        vertical-align: top;\n",
       "    }\n",
       "\n",
       "    .dataframe thead th {\n",
       "        text-align: right;\n",
       "    }\n",
       "</style>\n",
       "<table border=\"1\" class=\"dataframe\">\n",
       "  <thead>\n",
       "    <tr style=\"text-align: right;\">\n",
       "      <th></th>\n",
       "      <th>X1</th>\n",
       "      <th>Player</th>\n",
       "      <th>Tm</th>\n",
       "      <th>season17_18</th>\n",
       "    </tr>\n",
       "  </thead>\n",
       "  <tbody>\n",
       "    <tr>\n",
       "      <th>0</th>\n",
       "      <td>1.0</td>\n",
       "      <td>Stephen Curry</td>\n",
       "      <td>GSW</td>\n",
       "      <td>34682550.0</td>\n",
       "    </tr>\n",
       "    <tr>\n",
       "      <th>1</th>\n",
       "      <td>2.0</td>\n",
       "      <td>LeBron James</td>\n",
       "      <td>CLE</td>\n",
       "      <td>33285709.0</td>\n",
       "    </tr>\n",
       "    <tr>\n",
       "      <th>2</th>\n",
       "      <td>3.0</td>\n",
       "      <td>Paul Millsap</td>\n",
       "      <td>DEN</td>\n",
       "      <td>31269231.0</td>\n",
       "    </tr>\n",
       "    <tr>\n",
       "      <th>3</th>\n",
       "      <td>4.0</td>\n",
       "      <td>Gordon Hayward</td>\n",
       "      <td>BOS</td>\n",
       "      <td>29727900.0</td>\n",
       "    </tr>\n",
       "    <tr>\n",
       "      <th>4</th>\n",
       "      <td>5.0</td>\n",
       "      <td>Blake Griffin</td>\n",
       "      <td>DET</td>\n",
       "      <td>29512900.0</td>\n",
       "    </tr>\n",
       "  </tbody>\n",
       "</table>\n",
       "</div>"
      ],
      "text/plain": [
       "    X1          Player   Tm  season17_18\n",
       "0  1.0   Stephen Curry  GSW   34682550.0\n",
       "1  2.0    LeBron James  CLE   33285709.0\n",
       "2  3.0    Paul Millsap  DEN   31269231.0\n",
       "3  4.0  Gordon Hayward  BOS   29727900.0\n",
       "4  5.0   Blake Griffin  DET   29512900.0"
      ]
     },
     "execution_count": 60,
     "metadata": {},
     "output_type": "execute_result"
    }
   ],
   "source": [
    "# Extrar la tabla NBA_season1718_salary\n",
    "con =sqlite3.connect(sqlpath)\n",
    "df=pd.read_sql_query('SELECT * FROM NBA_season1718_salary',con)\n",
    "df.head()"
   ]
  },
  {
   "cell_type": "code",
   "execution_count": null,
   "metadata": {},
   "outputs": [],
   "source": []
  },
  {
   "attachments": {},
   "cell_type": "markdown",
   "metadata": {},
   "source": [
    "####  duckDB puede usarse para realizar queries directamente sobre archivos\n"
   ]
  },
  {
   "cell_type": "code",
   "execution_count": 61,
   "metadata": {},
   "outputs": [],
   "source": [
    "import duckdb\n"
   ]
  },
  {
   "cell_type": "code",
   "execution_count": 62,
   "metadata": {},
   "outputs": [
    {
     "data": {
      "text/plain": [
       "<duckdb.DuckDBPyConnection at 0x7fc9b537c3b0>"
      ]
     },
     "execution_count": 62,
     "metadata": {},
     "output_type": "execute_result"
    }
   ],
   "source": [
    "con = duckdb.connect(database=':memory:')\n",
    "\n",
    "con.execute(\"SET memory_limit='100MB'\")\n",
    "\n",
    "con.execute(\"\"\"\n",
    "COPY (SELECT * FROM '/workspaces/predictive_maintenance/data/raw/PdM_telemetry.csv')\n",
    "TO '/workspaces/predictive_maintenance/data/raw/PdM_telemetry2.parquet'\n",
    "(FORMAT PARQUET, CODEC 'SNAPPY', ROW_GROUP_SIZE 100000);\n",
    "\"\"\")\n"
   ]
  },
  {
   "attachments": {},
   "cell_type": "markdown",
   "metadata": {},
   "source": [
    "## Conexion con APIs"
   ]
  },
  {
   "cell_type": "code",
   "execution_count": 1,
   "metadata": {},
   "outputs": [],
   "source": [
    "## La mayoria de las librerias requieren la creacion de un usaario y contraseña para poder acceder a la base de datos \n",
    "## en algunos casos incluso tarjeta de credito \n"
   ]
  },
  {
   "cell_type": "code",
   "execution_count": 9,
   "metadata": {},
   "outputs": [
    {
     "data": {
      "text/plain": [
       "'{\\n  \"type\": \"Movie\",\\n  \"name\": \"The House of the Spirits\",\\n  \"url\": \"https://www.imdb.com/title/tt01'"
      ]
     },
     "execution_count": 9,
     "metadata": {},
     "output_type": "execute_result"
    }
   ],
   "source": [
    "# !pip install PyMovieDb\n",
    "\n",
    "# PyMovieDb permite acceder a la API de IMDB para obtener informacion de peliculas y series de TV\n",
    "# Sin necesidad de crear un usuario y contraseña\n",
    "# https://github.com/SensiPeeps/PyMovieDB\n",
    "\n",
    "from PyMovieDb import IMDB\n",
    "import json \n",
    "\n",
    "\n",
    "imdb = IMDB()\n",
    "res = imdb.get_by_name('House Of The Dragon')\n",
    "res[0:100]"
   ]
  },
  {
   "cell_type": "code",
   "execution_count": 10,
   "metadata": {},
   "outputs": [],
   "source": [
    "res = json.loads(res)"
   ]
  },
  {
   "cell_type": "code",
   "execution_count": null,
   "metadata": {},
   "outputs": [],
   "source": []
  },
  {
   "attachments": {},
   "cell_type": "markdown",
   "metadata": {},
   "source": [
    "# El Open Industrial data project  proporciona un gran volumen de datos mediante su API\n",
    "\n",
    "Las instrucciones para el login se encuentran en esta pagina: https://hub.cognite.com/open-industrial-data-211/get-industrial-data-into-python-from-open-industrial-data-cdf-project-thorugh-oidc-auth-1228 \n",
    "\n",
    "\n",
    "Mas detalles de este projecto se pueden encontrar en el white paper: https://f.hubspotusercontent10.net/hubfs/6407318/Tomorrow%20People/2019/Campaigns/Interim/Files/Open%20Industrial%20Data%20-%20Inspiring%20Innovation%20_%20Fuelling%20Collaboration%20in%20the%20Oil%20_%20Gas%20Industry%20(Cognite_Aker%20BP%202018).pdf \n"
   ]
  },
  {
   "cell_type": "code",
   "execution_count": 63,
   "metadata": {},
   "outputs": [
    {
     "name": "stdout",
     "output_type": "stream",
     "text": [
      "Collecting cognite-sdk\n",
      "  Downloading cognite_sdk-5.3.6-py3-none-any.whl (264 kB)\n",
      "\u001b[2K     \u001b[90m━━━━━━━━━━━━━━━━━━━━━━━━━━━━━━━━━━━━━━━\u001b[0m \u001b[32m264.6/264.6 kB\u001b[0m \u001b[31m7.1 MB/s\u001b[0m eta \u001b[36m0:00:00\u001b[0ma \u001b[36m0:00:01\u001b[0m\n",
      "\u001b[?25hCollecting msal<2,>=1\n",
      "  Downloading msal-1.21.0-py2.py3-none-any.whl (89 kB)\n",
      "\u001b[2K     \u001b[90m━━━━━━━━━━━━━━━━━━━━━━━━━━━━━━━━━━━━━━━━\u001b[0m \u001b[32m89.9/89.9 kB\u001b[0m \u001b[31m3.1 MB/s\u001b[0m eta \u001b[36m0:00:00\u001b[0m\n",
      "\u001b[?25hCollecting protobuf>=3.16.0\n",
      "  Downloading protobuf-4.21.12-cp37-abi3-manylinux2014_x86_64.whl (409 kB)\n",
      "\u001b[2K     \u001b[90m━━━━━━━━━━━━━━━━━━━━━━━━━━━━━━━━━━━━━━\u001b[0m \u001b[32m409.8/409.8 kB\u001b[0m \u001b[31m13.4 MB/s\u001b[0m eta \u001b[36m0:00:00\u001b[0m\n",
      "\u001b[?25hRequirement already satisfied: requests<3,>=2 in /home/codespace/.local/lib/python3.10/site-packages (from cognite-sdk) (2.28.1)\n",
      "Collecting requests_oauthlib<2,>=1\n",
      "  Downloading requests_oauthlib-1.3.1-py2.py3-none-any.whl (23 kB)\n",
      "Collecting sortedcontainers<3.0,>=2.2\n",
      "  Downloading sortedcontainers-2.4.0-py2.py3-none-any.whl (29 kB)\n",
      "Collecting cryptography<41,>=0.6\n",
      "  Downloading cryptography-39.0.0-cp36-abi3-manylinux_2_28_x86_64.whl (4.2 MB)\n",
      "\u001b[2K     \u001b[90m━━━━━━━━━━━━━━━━━━━━━━━━━━━━━━━━━━━━━━━━\u001b[0m \u001b[32m4.2/4.2 MB\u001b[0m \u001b[31m56.2 MB/s\u001b[0m eta \u001b[36m0:00:00\u001b[0m:00:01\u001b[0m\n",
      "\u001b[?25hCollecting PyJWT[crypto]<3,>=1.0.0\n",
      "  Downloading PyJWT-2.6.0-py3-none-any.whl (20 kB)\n",
      "Requirement already satisfied: idna<4,>=2.5 in /home/codespace/.local/lib/python3.10/site-packages (from requests<3,>=2->cognite-sdk) (3.4)\n",
      "Requirement already satisfied: urllib3<1.27,>=1.21.1 in /home/codespace/.local/lib/python3.10/site-packages (from requests<3,>=2->cognite-sdk) (1.26.13)\n",
      "Requirement already satisfied: certifi>=2017.4.17 in /home/codespace/.local/lib/python3.10/site-packages (from requests<3,>=2->cognite-sdk) (2022.12.7)\n",
      "Requirement already satisfied: charset-normalizer<3,>=2 in /home/codespace/.local/lib/python3.10/site-packages (from requests<3,>=2->cognite-sdk) (2.1.1)\n",
      "Collecting oauthlib>=3.0.0\n",
      "  Downloading oauthlib-3.2.2-py3-none-any.whl (151 kB)\n",
      "\u001b[2K     \u001b[90m━━━━━━━━━━━━━━━━━━━━━━━━━━━━━━━━━━━━━━━\u001b[0m \u001b[32m151.7/151.7 kB\u001b[0m \u001b[31m4.8 MB/s\u001b[0m eta \u001b[36m0:00:00\u001b[0m\n",
      "\u001b[?25hRequirement already satisfied: cffi>=1.12 in /home/codespace/.local/lib/python3.10/site-packages (from cryptography<41,>=0.6->msal<2,>=1->cognite-sdk) (1.15.1)\n",
      "Requirement already satisfied: pycparser in /home/codespace/.local/lib/python3.10/site-packages (from cffi>=1.12->cryptography<41,>=0.6->msal<2,>=1->cognite-sdk) (2.21)\n",
      "Installing collected packages: sortedcontainers, PyJWT, protobuf, oauthlib, requests_oauthlib, cryptography, msal, cognite-sdk\n",
      "Successfully installed PyJWT-2.6.0 cognite-sdk-5.3.6 cryptography-39.0.0 msal-1.21.0 oauthlib-3.2.2 protobuf-4.21.12 requests_oauthlib-1.3.1 sortedcontainers-2.4.0\n",
      "Requirement already satisfied: msal in /usr/local/python/3.10.4/lib/python3.10/site-packages (1.21.0)\n",
      "Requirement already satisfied: requests<3,>=2.0.0 in /home/codespace/.local/lib/python3.10/site-packages (from msal) (2.28.1)\n",
      "Requirement already satisfied: cryptography<41,>=0.6 in /usr/local/python/3.10.4/lib/python3.10/site-packages (from msal) (39.0.0)\n",
      "Requirement already satisfied: PyJWT[crypto]<3,>=1.0.0 in /usr/local/python/3.10.4/lib/python3.10/site-packages (from msal) (2.6.0)\n",
      "Requirement already satisfied: cffi>=1.12 in /home/codespace/.local/lib/python3.10/site-packages (from cryptography<41,>=0.6->msal) (1.15.1)\n",
      "Requirement already satisfied: certifi>=2017.4.17 in /home/codespace/.local/lib/python3.10/site-packages (from requests<3,>=2.0.0->msal) (2022.12.7)\n",
      "Requirement already satisfied: urllib3<1.27,>=1.21.1 in /home/codespace/.local/lib/python3.10/site-packages (from requests<3,>=2.0.0->msal) (1.26.13)\n",
      "Requirement already satisfied: idna<4,>=2.5 in /home/codespace/.local/lib/python3.10/site-packages (from requests<3,>=2.0.0->msal) (3.4)\n",
      "Requirement already satisfied: charset-normalizer<3,>=2 in /home/codespace/.local/lib/python3.10/site-packages (from requests<3,>=2.0.0->msal) (2.1.1)\n",
      "Requirement already satisfied: pycparser in /home/codespace/.local/lib/python3.10/site-packages (from cffi>=1.12->cryptography<41,>=0.6->msal) (2.21)\n",
      "Requirement already satisfied: pandas in /home/codespace/.local/lib/python3.10/site-packages (1.5.2)\n",
      "Requirement already satisfied: pytz>=2020.1 in /home/codespace/.local/lib/python3.10/site-packages (from pandas) (2022.7)\n",
      "Requirement already satisfied: numpy>=1.21.0 in /home/codespace/.local/lib/python3.10/site-packages (from pandas) (1.24.0)\n",
      "Requirement already satisfied: python-dateutil>=2.8.1 in /home/codespace/.local/lib/python3.10/site-packages (from pandas) (2.8.2)\n",
      "Requirement already satisfied: six>=1.5 in /home/codespace/.local/lib/python3.10/site-packages (from python-dateutil>=2.8.1->pandas) (1.16.0)\n"
     ]
    }
   ],
   "source": [
    "!pip install cognite-sdk\n",
    "!pip install msal\n",
    "!pip install pandas"
   ]
  },
  {
   "cell_type": "code",
   "execution_count": 11,
   "metadata": {},
   "outputs": [],
   "source": [
    "# EL siguiente codigo permite acceder a la API de Cognite Data Fusion \n",
    "# para que puedas acceder a los datos de la plataforma es necesario ejecutar el codigo de manera local\n",
    "# ya que utiliza AZURE AD para autenticar el usuario "
   ]
  },
  {
   "cell_type": "code",
   "execution_count": 64,
   "metadata": {},
   "outputs": [],
   "source": [
    "import atexit\n",
    "import os\n",
    "\n",
    "#This uses Cognite-SDK version 4.0.0 or greater\n",
    "from cognite.client import CogniteClient, ClientConfig\n",
    "from cognite.client.credentials import Token\n",
    "from msal import PublicClientApplication, SerializableTokenCache\n",
    "\n",
    "# Contact Project Administrator to get these\n",
    "TENANT_ID = \"48d5043c-cf70-4c49-881c-c638f5796997\"\n",
    "CLIENT_ID = \"1b90ede3-271e-401b-81a0-a4d52bea3273\"\n",
    "CDF_CLUSTER = \"api\"  # api, westeurope-1 etc\n",
    "COGNITE_PROJECT = \"publicdata\"\n",
    "\n"
   ]
  },
  {
   "cell_type": "code",
   "execution_count": 65,
   "metadata": {},
   "outputs": [],
   "source": [
    "CACHE_FILENAME = \"cache.bin\"\n",
    "BASE_URL = f\"https://{CDF_CLUSTER}.cognitedata.com\"\n",
    "SCOPES = [f\"https://{CDF_CLUSTER}.cognitedata.com/.default\"]\n",
    "\n",
    "AUTHORITY_HOST_URI = \"https://login.microsoftonline.com\"\n",
    "AUTHORITY_URI = AUTHORITY_HOST_URI + \"/\" + TENANT_ID\n",
    "PORT = 53000\n",
    "\n",
    "\n"
   ]
  },
  {
   "cell_type": "code",
   "execution_count": 66,
   "metadata": {},
   "outputs": [],
   "source": [
    "def create_cache():\n",
    "    cache = SerializableTokenCache()\n",
    "    if os.path.exists(CACHE_FILENAME):\n",
    "        cache.deserialize(open(CACHE_FILENAME, \"r\").read())\n",
    "    atexit.register(lambda:\n",
    "        open(CACHE_FILENAME, \"w\").write(cache.serialize()) if cache.has_state_changed else None\n",
    "    )\n",
    "    return cache\n",
    "\n",
    "\n",
    "def authenticate_azure(app):\n",
    "    # Firstly, check the cache to see if this end user has signed in before\n",
    "    accounts = app.get_accounts()\n",
    "    if accounts:\n",
    "        creds = app.acquire_token_silent(SCOPES, account=accounts[0])\n",
    "    else:\n",
    "        # interactive login - make sure you have http://localhost:port in Redirect URI in App Registration as type \"Mobile and desktop applications\"\n",
    "        creds = app.acquire_token_interactive(scopes=SCOPES, port=PORT,)\n",
    "\n",
    "    return creds\n",
    "\n",
    "app = PublicClientApplication(client_id=CLIENT_ID, authority=AUTHORITY_URI, token_cache=create_cache())\n",
    "\n",
    "def get_token():\n",
    "    return authenticate_azure(app)[\"access_token\"]\n",
    "\n",
    "cnf = ClientConfig(client_name=\"my-special-client\", project=COGNITE_PROJECT, credentials=Token(get_token), base_url=BASE_URL)\n",
    "c = CogniteClient(cnf)"
   ]
  },
  {
   "cell_type": "code",
   "execution_count": 68,
   "metadata": {},
   "outputs": [
    {
     "ename": "KeyboardInterrupt",
     "evalue": "",
     "output_type": "error",
     "traceback": [
      "\u001b[0;31m---------------------------------------------------------------------------\u001b[0m",
      "\u001b[0;31mKeyboardInterrupt\u001b[0m                         Traceback (most recent call last)",
      "Cell \u001b[0;32mIn[68], line 1\u001b[0m\n\u001b[0;32m----> 1\u001b[0m c\u001b[39m.\u001b[39;49massets\u001b[39m.\u001b[39;49mlist() \u001b[39m#to list assets\u001b[39;00m\n\u001b[1;32m      2\u001b[0m c\u001b[39m.\u001b[39mtime_series\u001b[39m.\u001b[39mlist() \u001b[39m#to list timeseries\u001b[39;00m\n",
      "File \u001b[0;32m~/.python/current/lib/python3.10/site-packages/cognite/client/_api/assets.py:294\u001b[0m, in \u001b[0;36mAssetsAPI.list\u001b[0;34m(self, name, parent_ids, parent_external_ids, asset_subtree_ids, asset_subtree_external_ids, data_set_ids, data_set_external_ids, labels, geo_location, metadata, source, created_time, last_updated_time, root, external_id_prefix, aggregated_properties, partitions, limit)\u001b[0m\n\u001b[1;32m    277\u001b[0m     data_set_ids_processed \u001b[39m=\u001b[39m IdentifierSequence\u001b[39m.\u001b[39mload(data_set_ids, data_set_external_ids)\u001b[39m.\u001b[39mas_dicts()\n\u001b[1;32m    279\u001b[0m \u001b[39mfilter\u001b[39m \u001b[39m=\u001b[39m AssetFilter(\n\u001b[1;32m    280\u001b[0m     name\u001b[39m=\u001b[39mname,\n\u001b[1;32m    281\u001b[0m     parent_ids\u001b[39m=\u001b[39mparent_ids,\n\u001b[0;32m   (...)\u001b[0m\n\u001b[1;32m    292\u001b[0m     external_id_prefix\u001b[39m=\u001b[39mexternal_id_prefix,\n\u001b[1;32m    293\u001b[0m )\u001b[39m.\u001b[39mdump(camel_case\u001b[39m=\u001b[39m\u001b[39mTrue\u001b[39;00m)\n\u001b[0;32m--> 294\u001b[0m \u001b[39mreturn\u001b[39;00m \u001b[39mself\u001b[39;49m\u001b[39m.\u001b[39;49m_list(\n\u001b[1;32m    295\u001b[0m     list_cls\u001b[39m=\u001b[39;49mAssetList,\n\u001b[1;32m    296\u001b[0m     resource_cls\u001b[39m=\u001b[39;49mAsset,\n\u001b[1;32m    297\u001b[0m     method\u001b[39m=\u001b[39;49m\u001b[39m\"\u001b[39;49m\u001b[39mPOST\u001b[39;49m\u001b[39m\"\u001b[39;49m,\n\u001b[1;32m    298\u001b[0m     limit\u001b[39m=\u001b[39;49mlimit,\n\u001b[1;32m    299\u001b[0m     \u001b[39mfilter\u001b[39;49m\u001b[39m=\u001b[39;49m\u001b[39mfilter\u001b[39;49m,\n\u001b[1;32m    300\u001b[0m     other_params\u001b[39m=\u001b[39;49m{\u001b[39m\"\u001b[39;49m\u001b[39maggregatedProperties\u001b[39;49m\u001b[39m\"\u001b[39;49m: aggregated_properties} \u001b[39mif\u001b[39;49;00m aggregated_properties \u001b[39melse\u001b[39;49;00m {},\n\u001b[1;32m    301\u001b[0m     partitions\u001b[39m=\u001b[39;49mpartitions,\n\u001b[1;32m    302\u001b[0m )\n",
      "File \u001b[0;32m~/.python/current/lib/python3.10/site-packages/cognite/client/_api_client.py:490\u001b[0m, in \u001b[0;36mAPIClient._list\u001b[0;34m(self, method, list_cls, resource_cls, resource_path, url_path, limit, filter, other_params, partitions, sort, headers, initial_cursor)\u001b[0m\n\u001b[1;32m    488\u001b[0m resource_path \u001b[39m=\u001b[39m resource_path \u001b[39mor\u001b[39;00m \u001b[39mself\u001b[39m\u001b[39m.\u001b[39m_RESOURCE_PATH\n\u001b[1;32m    489\u001b[0m items: List[T_CogniteResource] \u001b[39m=\u001b[39m []\n\u001b[0;32m--> 490\u001b[0m \u001b[39mfor\u001b[39;00m resource_list \u001b[39min\u001b[39;00m \u001b[39mself\u001b[39m\u001b[39m.\u001b[39m_list_generator(\n\u001b[1;32m    491\u001b[0m     list_cls\u001b[39m=\u001b[39mlist_cls,\n\u001b[1;32m    492\u001b[0m     resource_cls\u001b[39m=\u001b[39mresource_cls,\n\u001b[1;32m    493\u001b[0m     resource_path\u001b[39m=\u001b[39mresource_path,\n\u001b[1;32m    494\u001b[0m     url_path\u001b[39m=\u001b[39murl_path,\n\u001b[1;32m    495\u001b[0m     method\u001b[39m=\u001b[39mmethod,\n\u001b[1;32m    496\u001b[0m     limit\u001b[39m=\u001b[39mlimit,\n\u001b[1;32m    497\u001b[0m     chunk_size\u001b[39m=\u001b[39m\u001b[39mself\u001b[39m\u001b[39m.\u001b[39m_LIST_LIMIT,\n\u001b[1;32m    498\u001b[0m     \u001b[39mfilter\u001b[39m\u001b[39m=\u001b[39m\u001b[39mfilter\u001b[39m,\n\u001b[1;32m    499\u001b[0m     sort\u001b[39m=\u001b[39msort,\n\u001b[1;32m    500\u001b[0m     other_params\u001b[39m=\u001b[39mother_params,\n\u001b[1;32m    501\u001b[0m     headers\u001b[39m=\u001b[39mheaders,\n\u001b[1;32m    502\u001b[0m     initial_cursor\u001b[39m=\u001b[39minitial_cursor,\n\u001b[1;32m    503\u001b[0m ):\n\u001b[1;32m    504\u001b[0m     items\u001b[39m.\u001b[39mextend(resource_list\u001b[39m.\u001b[39mdata)\n\u001b[1;32m    505\u001b[0m \u001b[39mreturn\u001b[39;00m list_cls(items, cognite_client\u001b[39m=\u001b[39m\u001b[39mself\u001b[39m\u001b[39m.\u001b[39m_cognite_client)\n",
      "File \u001b[0;32m~/.python/current/lib/python3.10/site-packages/cognite/client/_api_client.py:396\u001b[0m, in \u001b[0;36mAPIClient._list_generator\u001b[0;34m(self, method, list_cls, resource_cls, resource_path, url_path, limit, chunk_size, filter, sort, other_params, partitions, headers, initial_cursor)\u001b[0m\n\u001b[1;32m    394\u001b[0m     \u001b[39mif\u001b[39;00m sort \u001b[39mis\u001b[39;00m \u001b[39mnot\u001b[39;00m \u001b[39mNone\u001b[39;00m:\n\u001b[1;32m    395\u001b[0m         body[\u001b[39m\"\u001b[39m\u001b[39msort\u001b[39m\u001b[39m\"\u001b[39m] \u001b[39m=\u001b[39m sort\n\u001b[0;32m--> 396\u001b[0m     res \u001b[39m=\u001b[39m \u001b[39mself\u001b[39;49m\u001b[39m.\u001b[39;49m_post(url_path\u001b[39m=\u001b[39;49murl_path \u001b[39mor\u001b[39;49;00m resource_path \u001b[39m+\u001b[39;49m \u001b[39m\"\u001b[39;49m\u001b[39m/list\u001b[39;49m\u001b[39m\"\u001b[39;49m, json\u001b[39m=\u001b[39;49mbody, headers\u001b[39m=\u001b[39;49mheaders)\n\u001b[1;32m    397\u001b[0m \u001b[39melse\u001b[39;00m:\n\u001b[1;32m    398\u001b[0m     \u001b[39mraise\u001b[39;00m \u001b[39mValueError\u001b[39;00m(\u001b[39mf\u001b[39m\u001b[39m\"\u001b[39m\u001b[39m_list_generator parameter `method` must be GET or POST, not \u001b[39m\u001b[39m{\u001b[39;00mmethod\u001b[39m}\u001b[39;00m\u001b[39m\"\u001b[39m)\n",
      "File \u001b[0;32m~/.python/current/lib/python3.10/site-packages/cognite/client/_api_client.py:134\u001b[0m, in \u001b[0;36mAPIClient._post\u001b[0;34m(self, url_path, json, params, headers)\u001b[0m\n\u001b[1;32m    127\u001b[0m \u001b[39mdef\u001b[39;00m \u001b[39m_post\u001b[39m(\n\u001b[1;32m    128\u001b[0m     \u001b[39mself\u001b[39m,\n\u001b[1;32m    129\u001b[0m     url_path: \u001b[39mstr\u001b[39m,\n\u001b[0;32m   (...)\u001b[0m\n\u001b[1;32m    132\u001b[0m     headers: Optional[Dict[\u001b[39mstr\u001b[39m, Any]] \u001b[39m=\u001b[39m \u001b[39mNone\u001b[39;00m,\n\u001b[1;32m    133\u001b[0m ) \u001b[39m-\u001b[39m\u001b[39m>\u001b[39m Response:\n\u001b[0;32m--> 134\u001b[0m     \u001b[39mreturn\u001b[39;00m \u001b[39mself\u001b[39;49m\u001b[39m.\u001b[39;49m_do_request(\n\u001b[1;32m    135\u001b[0m         \u001b[39m\"\u001b[39;49m\u001b[39mPOST\u001b[39;49m\u001b[39m\"\u001b[39;49m, url_path, json\u001b[39m=\u001b[39;49mjson, headers\u001b[39m=\u001b[39;49mheaders, params\u001b[39m=\u001b[39;49mparams, timeout\u001b[39m=\u001b[39;49m\u001b[39mself\u001b[39;49m\u001b[39m.\u001b[39;49m_config\u001b[39m.\u001b[39;49mtimeout\n\u001b[1;32m    136\u001b[0m     )\n",
      "File \u001b[0;32m~/.python/current/lib/python3.10/site-packages/cognite/client/_api_client.py:147\u001b[0m, in \u001b[0;36mAPIClient._do_request\u001b[0;34m(self, method, url_path, accept, **kwargs)\u001b[0m\n\u001b[1;32m    144\u001b[0m is_retryable, full_url \u001b[39m=\u001b[39m \u001b[39mself\u001b[39m\u001b[39m.\u001b[39m_resolve_url(method, url_path)\n\u001b[1;32m    146\u001b[0m json_payload \u001b[39m=\u001b[39m kwargs\u001b[39m.\u001b[39mget(\u001b[39m\"\u001b[39m\u001b[39mjson\u001b[39m\u001b[39m\"\u001b[39m)\n\u001b[0;32m--> 147\u001b[0m headers \u001b[39m=\u001b[39m \u001b[39mself\u001b[39;49m\u001b[39m.\u001b[39;49m_configure_headers(accept, additional_headers\u001b[39m=\u001b[39;49m\u001b[39mself\u001b[39;49m\u001b[39m.\u001b[39;49m_config\u001b[39m.\u001b[39;49mheaders\u001b[39m.\u001b[39;49mcopy())\n\u001b[1;32m    148\u001b[0m headers\u001b[39m.\u001b[39mupdate(kwargs\u001b[39m.\u001b[39mget(\u001b[39m\"\u001b[39m\u001b[39mheaders\u001b[39m\u001b[39m\"\u001b[39m) \u001b[39mor\u001b[39;00m {})\n\u001b[1;32m    150\u001b[0m \u001b[39mif\u001b[39;00m json_payload:\n",
      "File \u001b[0;32m~/.python/current/lib/python3.10/site-packages/cognite/client/_api_client.py:189\u001b[0m, in \u001b[0;36mAPIClient._configure_headers\u001b[0;34m(self, accept, additional_headers)\u001b[0m\n\u001b[1;32m    187\u001b[0m headers: MutableMapping[\u001b[39mstr\u001b[39m, Any] \u001b[39m=\u001b[39m CaseInsensitiveDict()\n\u001b[1;32m    188\u001b[0m headers\u001b[39m.\u001b[39mupdate(requests\u001b[39m.\u001b[39mutils\u001b[39m.\u001b[39mdefault_headers())\n\u001b[0;32m--> 189\u001b[0m auth_header_name, auth_header_value \u001b[39m=\u001b[39m \u001b[39mself\u001b[39;49m\u001b[39m.\u001b[39;49m_config\u001b[39m.\u001b[39;49mcredentials\u001b[39m.\u001b[39;49mauthorization_header()\n\u001b[1;32m    190\u001b[0m headers[auth_header_name] \u001b[39m=\u001b[39m auth_header_value\n\u001b[1;32m    191\u001b[0m headers[\u001b[39m\"\u001b[39m\u001b[39mcontent-type\u001b[39m\u001b[39m\"\u001b[39m] \u001b[39m=\u001b[39m \u001b[39m\"\u001b[39m\u001b[39mapplication/json\u001b[39m\u001b[39m\"\u001b[39m\n",
      "File \u001b[0;32m~/.python/current/lib/python3.10/site-packages/cognite/client/credentials.py:65\u001b[0m, in \u001b[0;36mToken.authorization_header\u001b[0;34m(self)\u001b[0m\n\u001b[1;32m     64\u001b[0m \u001b[39mdef\u001b[39;00m \u001b[39mauthorization_header\u001b[39m(\u001b[39mself\u001b[39m) \u001b[39m-\u001b[39m\u001b[39m>\u001b[39m Tuple[\u001b[39mstr\u001b[39m, \u001b[39mstr\u001b[39m]:\n\u001b[0;32m---> 65\u001b[0m     \u001b[39mreturn\u001b[39;00m \u001b[39m\"\u001b[39m\u001b[39mAuthorization\u001b[39m\u001b[39m\"\u001b[39m, \u001b[39mf\u001b[39m\u001b[39m\"\u001b[39m\u001b[39mBearer \u001b[39m\u001b[39m{\u001b[39;00m\u001b[39mself\u001b[39;49m\u001b[39m.\u001b[39;49m__token_factory()\u001b[39m}\u001b[39;00m\u001b[39m\"\u001b[39m\n",
      "Cell \u001b[0;32mIn[66], line 25\u001b[0m, in \u001b[0;36mget_token\u001b[0;34m()\u001b[0m\n\u001b[1;32m     24\u001b[0m \u001b[39mdef\u001b[39;00m \u001b[39mget_token\u001b[39m():\n\u001b[0;32m---> 25\u001b[0m     \u001b[39mreturn\u001b[39;00m authenticate_azure(app)[\u001b[39m\"\u001b[39m\u001b[39maccess_token\u001b[39m\u001b[39m\"\u001b[39m]\n",
      "Cell \u001b[0;32mIn[66], line 18\u001b[0m, in \u001b[0;36mauthenticate_azure\u001b[0;34m(app)\u001b[0m\n\u001b[1;32m     15\u001b[0m     creds \u001b[39m=\u001b[39m app\u001b[39m.\u001b[39macquire_token_silent(SCOPES, account\u001b[39m=\u001b[39maccounts[\u001b[39m0\u001b[39m])\n\u001b[1;32m     16\u001b[0m \u001b[39melse\u001b[39;00m:\n\u001b[1;32m     17\u001b[0m     \u001b[39m# interactive login - make sure you have http://localhost:port in Redirect URI in App Registration as type \"Mobile and desktop applications\"\u001b[39;00m\n\u001b[0;32m---> 18\u001b[0m     creds \u001b[39m=\u001b[39m app\u001b[39m.\u001b[39;49macquire_token_interactive(scopes\u001b[39m=\u001b[39;49mSCOPES, port\u001b[39m=\u001b[39;49mPORT,)\n\u001b[1;32m     20\u001b[0m \u001b[39mreturn\u001b[39;00m creds\n",
      "File \u001b[0;32m~/.python/current/lib/python3.10/site-packages/msal/application.py:1819\u001b[0m, in \u001b[0;36mPublicClientApplication.acquire_token_interactive\u001b[0;34m(self, scopes, prompt, login_hint, domain_hint, claims_challenge, timeout, port, extra_scopes_to_consent, max_age, parent_window_handle, on_before_launching_ui, **kwargs)\u001b[0m\n\u001b[1;32m   1816\u001b[0m on_before_launching_ui(ui\u001b[39m=\u001b[39m\u001b[39m\"\u001b[39m\u001b[39mbrowser\u001b[39m\u001b[39m\"\u001b[39m)\n\u001b[1;32m   1817\u001b[0m telemetry_context \u001b[39m=\u001b[39m \u001b[39mself\u001b[39m\u001b[39m.\u001b[39m_build_telemetry_context(\n\u001b[1;32m   1818\u001b[0m     \u001b[39mself\u001b[39m\u001b[39m.\u001b[39mACQUIRE_TOKEN_INTERACTIVE)\n\u001b[0;32m-> 1819\u001b[0m response \u001b[39m=\u001b[39m _clean_up(\u001b[39mself\u001b[39;49m\u001b[39m.\u001b[39;49mclient\u001b[39m.\u001b[39;49mobtain_token_by_browser(\n\u001b[1;32m   1820\u001b[0m     scope\u001b[39m=\u001b[39;49m\u001b[39mself\u001b[39;49m\u001b[39m.\u001b[39;49m_decorate_scope(scopes) \u001b[39mif\u001b[39;49;00m scopes \u001b[39melse\u001b[39;49;00m \u001b[39mNone\u001b[39;49;00m,\n\u001b[1;32m   1821\u001b[0m     extra_scope_to_consent\u001b[39m=\u001b[39;49mextra_scopes_to_consent,\n\u001b[1;32m   1822\u001b[0m     redirect_uri\u001b[39m=\u001b[39;49m\u001b[39m\"\u001b[39;49m\u001b[39mhttp://localhost:\u001b[39;49m\u001b[39m{port}\u001b[39;49;00m\u001b[39m\"\u001b[39;49m\u001b[39m.\u001b[39;49mformat(\n\u001b[1;32m   1823\u001b[0m         \u001b[39m# Hardcode the host, for now. AAD portal rejects 127.0.0.1 anyway\u001b[39;49;00m\n\u001b[1;32m   1824\u001b[0m         port\u001b[39m=\u001b[39;49mport \u001b[39mor\u001b[39;49;00m \u001b[39m0\u001b[39;49m),\n\u001b[1;32m   1825\u001b[0m     prompt\u001b[39m=\u001b[39;49mprompt,\n\u001b[1;32m   1826\u001b[0m     login_hint\u001b[39m=\u001b[39;49mlogin_hint,\n\u001b[1;32m   1827\u001b[0m     max_age\u001b[39m=\u001b[39;49mmax_age,\n\u001b[1;32m   1828\u001b[0m     timeout\u001b[39m=\u001b[39;49mtimeout,\n\u001b[1;32m   1829\u001b[0m     auth_params\u001b[39m=\u001b[39;49m{\n\u001b[1;32m   1830\u001b[0m         \u001b[39m\"\u001b[39;49m\u001b[39mclaims\u001b[39;49m\u001b[39m\"\u001b[39;49m: claims,\n\u001b[1;32m   1831\u001b[0m         \u001b[39m\"\u001b[39;49m\u001b[39mdomain_hint\u001b[39;49m\u001b[39m\"\u001b[39;49m: domain_hint,\n\u001b[1;32m   1832\u001b[0m         },\n\u001b[1;32m   1833\u001b[0m     data\u001b[39m=\u001b[39;49m\u001b[39mdict\u001b[39;49m(data, claims\u001b[39m=\u001b[39;49mclaims),\n\u001b[1;32m   1834\u001b[0m     headers\u001b[39m=\u001b[39;49mtelemetry_context\u001b[39m.\u001b[39;49mgenerate_headers(),\n\u001b[1;32m   1835\u001b[0m     browser_name\u001b[39m=\u001b[39;49m_preferred_browser(),\n\u001b[1;32m   1836\u001b[0m     \u001b[39m*\u001b[39;49m\u001b[39m*\u001b[39;49mkwargs))\n\u001b[1;32m   1837\u001b[0m telemetry_context\u001b[39m.\u001b[39mupdate_telemetry(response)\n\u001b[1;32m   1838\u001b[0m \u001b[39mreturn\u001b[39;00m response\n",
      "File \u001b[0;32m~/.python/current/lib/python3.10/site-packages/msal/oauth2cli/oidc.py:281\u001b[0m, in \u001b[0;36mClient.obtain_token_by_browser\u001b[0;34m(self, display, prompt, max_age, ui_locales, id_token_hint, login_hint, acr_values, **kwargs)\u001b[0m\n\u001b[1;32m    247\u001b[0m \u001b[39m\"\"\"A native app can use this method to obtain token via a local browser.\u001b[39;00m\n\u001b[1;32m    248\u001b[0m \n\u001b[1;32m    249\u001b[0m \u001b[39mInternally, it implements nonce to mitigate replay attack.\u001b[39;00m\n\u001b[0;32m   (...)\u001b[0m\n\u001b[1;32m    270\u001b[0m \u001b[39mfor descriptions on other parameters and return value.\u001b[39;00m\n\u001b[1;32m    271\u001b[0m \u001b[39m\"\"\"\u001b[39;00m\n\u001b[1;32m    272\u001b[0m filtered_params \u001b[39m=\u001b[39m {k:v \u001b[39mfor\u001b[39;00m k, v \u001b[39min\u001b[39;00m \u001b[39mdict\u001b[39m(\n\u001b[1;32m    273\u001b[0m     prompt\u001b[39m=\u001b[39m\u001b[39m\"\u001b[39m\u001b[39m \u001b[39m\u001b[39m\"\u001b[39m\u001b[39m.\u001b[39mjoin(prompt) \u001b[39mif\u001b[39;00m \u001b[39misinstance\u001b[39m(prompt, (\u001b[39mlist\u001b[39m, \u001b[39mtuple\u001b[39m)) \u001b[39melse\u001b[39;00m prompt,\n\u001b[1;32m    274\u001b[0m     display\u001b[39m=\u001b[39mdisplay,\n\u001b[0;32m   (...)\u001b[0m\n\u001b[1;32m    279\u001b[0m     acr_values\u001b[39m=\u001b[39macr_values,\n\u001b[1;32m    280\u001b[0m     )\u001b[39m.\u001b[39mitems() \u001b[39mif\u001b[39;00m v \u001b[39mis\u001b[39;00m \u001b[39mnot\u001b[39;00m \u001b[39mNone\u001b[39;00m}  \u001b[39m# Filter out None values\u001b[39;00m\n\u001b[0;32m--> 281\u001b[0m \u001b[39mreturn\u001b[39;00m \u001b[39msuper\u001b[39;49m(Client, \u001b[39mself\u001b[39;49m)\u001b[39m.\u001b[39;49mobtain_token_by_browser(\n\u001b[1;32m    282\u001b[0m     auth_params\u001b[39m=\u001b[39;49m\u001b[39mdict\u001b[39;49m(kwargs\u001b[39m.\u001b[39;49mpop(\u001b[39m\"\u001b[39;49m\u001b[39mauth_params\u001b[39;49m\u001b[39m\"\u001b[39;49m, {}), \u001b[39m*\u001b[39;49m\u001b[39m*\u001b[39;49mfiltered_params),\n\u001b[1;32m    283\u001b[0m     \u001b[39m*\u001b[39;49m\u001b[39m*\u001b[39;49mkwargs)\n",
      "File \u001b[0;32m~/.python/current/lib/python3.10/site-packages/msal/oauth2cli/oauth2.py:639\u001b[0m, in \u001b[0;36mClient.obtain_token_by_browser\u001b[0;34m(self, redirect_uri, auth_code_receiver, **kwargs)\u001b[0m\n\u001b[1;32m    630\u001b[0m         uri \u001b[39m=\u001b[39m redirect_uri \u001b[39mif\u001b[39;00m _redirect_uri\u001b[39m.\u001b[39mport \u001b[39m!=\u001b[39m \u001b[39m0\u001b[39m \u001b[39melse\u001b[39;00m urlunparse((\n\u001b[1;32m    631\u001b[0m             _redirect_uri\u001b[39m.\u001b[39mscheme,\n\u001b[1;32m    632\u001b[0m             \u001b[39m\"\u001b[39m\u001b[39m{}\u001b[39;00m\u001b[39m:\u001b[39m\u001b[39m{}\u001b[39;00m\u001b[39m\"\u001b[39m\u001b[39m.\u001b[39mformat(_redirect_uri\u001b[39m.\u001b[39mhostname, receiver\u001b[39m.\u001b[39mget_port()),\n\u001b[0;32m   (...)\u001b[0m\n\u001b[1;32m    636\u001b[0m             _redirect_uri\u001b[39m.\u001b[39mfragment,\n\u001b[1;32m    637\u001b[0m             ))  \u001b[39m# It could be slightly different than raw redirect_uri\u001b[39;00m\n\u001b[1;32m    638\u001b[0m         \u001b[39mself\u001b[39m\u001b[39m.\u001b[39mlogger\u001b[39m.\u001b[39mdebug(\u001b[39m\"\u001b[39m\u001b[39mUsing \u001b[39m\u001b[39m{}\u001b[39;00m\u001b[39m as redirect_uri\u001b[39m\u001b[39m\"\u001b[39m\u001b[39m.\u001b[39mformat(uri))\n\u001b[0;32m--> 639\u001b[0m         \u001b[39mreturn\u001b[39;00m \u001b[39mself\u001b[39;49m\u001b[39m.\u001b[39;49m_obtain_token_by_browser(\n\u001b[1;32m    640\u001b[0m             receiver, redirect_uri\u001b[39m=\u001b[39;49muri, \u001b[39m*\u001b[39;49m\u001b[39m*\u001b[39;49mkwargs)\n\u001b[1;32m    641\u001b[0m \u001b[39mexcept\u001b[39;00m \u001b[39mPermissionError\u001b[39;00m:\n\u001b[1;32m    642\u001b[0m     \u001b[39mraise\u001b[39;00m \u001b[39mValueError\u001b[39;00m(\n\u001b[1;32m    643\u001b[0m         \u001b[39m\"\u001b[39m\u001b[39mCan\u001b[39m\u001b[39m'\u001b[39m\u001b[39mt listen on port \u001b[39m\u001b[39m%s\u001b[39;00m\u001b[39m. You may try port 0.\u001b[39m\u001b[39m\"\u001b[39m \u001b[39m%\u001b[39m listen_port)\n",
      "File \u001b[0;32m~/.python/current/lib/python3.10/site-packages/msal/oauth2cli/oauth2.py:667\u001b[0m, in \u001b[0;36mClient._obtain_token_by_browser\u001b[0;34m(self, auth_code_receiver, scope, extra_scope_to_consent, redirect_uri, timeout, welcome_template, success_template, error_template, auth_params, auth_uri_callback, browser_name, **kwargs)\u001b[0m\n\u001b[1;32m    645\u001b[0m \u001b[39mdef\u001b[39;00m \u001b[39m_obtain_token_by_browser\u001b[39m(\n\u001b[1;32m    646\u001b[0m         \u001b[39mself\u001b[39m,\n\u001b[1;32m    647\u001b[0m         auth_code_receiver,\n\u001b[0;32m   (...)\u001b[0m\n\u001b[1;32m    661\u001b[0m     \u001b[39m#\u001b[39;00m\n\u001b[1;32m    662\u001b[0m     \u001b[39m# Parameters are documented in public method obtain_token_by_browser().\u001b[39;00m\n\u001b[1;32m    663\u001b[0m     flow \u001b[39m=\u001b[39m \u001b[39mself\u001b[39m\u001b[39m.\u001b[39minitiate_auth_code_flow(\n\u001b[1;32m    664\u001b[0m         redirect_uri\u001b[39m=\u001b[39mredirect_uri,\n\u001b[1;32m    665\u001b[0m         scope\u001b[39m=\u001b[39m_scope_set(scope) \u001b[39m|\u001b[39m _scope_set(extra_scope_to_consent),\n\u001b[1;32m    666\u001b[0m         \u001b[39m*\u001b[39m\u001b[39m*\u001b[39m(auth_params \u001b[39mor\u001b[39;00m {}))\n\u001b[0;32m--> 667\u001b[0m     auth_response \u001b[39m=\u001b[39m auth_code_receiver\u001b[39m.\u001b[39;49mget_auth_response(\n\u001b[1;32m    668\u001b[0m         auth_uri\u001b[39m=\u001b[39;49mflow[\u001b[39m\"\u001b[39;49m\u001b[39mauth_uri\u001b[39;49m\u001b[39m\"\u001b[39;49m],\n\u001b[1;32m    669\u001b[0m         state\u001b[39m=\u001b[39;49mflow[\u001b[39m\"\u001b[39;49m\u001b[39mstate\u001b[39;49m\u001b[39m\"\u001b[39;49m],  \u001b[39m# Optional but we choose to do it upfront\u001b[39;49;00m\n\u001b[1;32m    670\u001b[0m         timeout\u001b[39m=\u001b[39;49mtimeout,\n\u001b[1;32m    671\u001b[0m         welcome_template\u001b[39m=\u001b[39;49mwelcome_template,\n\u001b[1;32m    672\u001b[0m         success_template\u001b[39m=\u001b[39;49msuccess_template,\n\u001b[1;32m    673\u001b[0m         error_template\u001b[39m=\u001b[39;49merror_template,\n\u001b[1;32m    674\u001b[0m         auth_uri_callback\u001b[39m=\u001b[39;49mauth_uri_callback,\n\u001b[1;32m    675\u001b[0m         browser_name\u001b[39m=\u001b[39;49mbrowser_name,\n\u001b[1;32m    676\u001b[0m         )\n\u001b[1;32m    677\u001b[0m     \u001b[39mreturn\u001b[39;00m \u001b[39mself\u001b[39m\u001b[39m.\u001b[39mobtain_token_by_auth_code_flow(\n\u001b[1;32m    678\u001b[0m         flow, auth_response, scope\u001b[39m=\u001b[39mscope, \u001b[39m*\u001b[39m\u001b[39m*\u001b[39mkwargs)\n",
      "File \u001b[0;32m~/.python/current/lib/python3.10/site-packages/msal/oauth2cli/authcode.py:233\u001b[0m, in \u001b[0;36mAuthCodeReceiver.get_auth_response\u001b[0;34m(self, timeout, **kwargs)\u001b[0m\n\u001b[1;32m    231\u001b[0m begin \u001b[39m=\u001b[39m time\u001b[39m.\u001b[39mtime()\n\u001b[1;32m    232\u001b[0m \u001b[39mwhile\u001b[39;00m (time\u001b[39m.\u001b[39mtime() \u001b[39m-\u001b[39m begin \u001b[39m<\u001b[39m timeout) \u001b[39mif\u001b[39;00m timeout \u001b[39melse\u001b[39;00m \u001b[39mTrue\u001b[39;00m:\n\u001b[0;32m--> 233\u001b[0m     time\u001b[39m.\u001b[39;49msleep(\u001b[39m1\u001b[39;49m)  \u001b[39m# Short detection interval to make happy path responsive\u001b[39;00m\n\u001b[1;32m    234\u001b[0m     \u001b[39mif\u001b[39;00m \u001b[39mnot\u001b[39;00m t\u001b[39m.\u001b[39mis_alive():  \u001b[39m# Then the thread has finished its job and exited\u001b[39;00m\n\u001b[1;32m    235\u001b[0m         \u001b[39mbreak\u001b[39;00m\n",
      "\u001b[0;31mKeyboardInterrupt\u001b[0m: "
     ]
    }
   ],
   "source": [
    "c.assets.list() #to list assets\n",
    "c.time_series.list() #to list timeseries"
   ]
  },
  {
   "cell_type": "code",
   "execution_count": null,
   "metadata": {},
   "outputs": [],
   "source": []
  }
 ],
 "metadata": {
  "kernelspec": {
   "display_name": "Python 3",
   "language": "python",
   "name": "python3"
  },
  "language_info": {
   "codemirror_mode": {
    "name": "ipython",
    "version": 3
   },
   "file_extension": ".py",
   "mimetype": "text/x-python",
   "name": "python",
   "nbconvert_exporter": "python",
   "pygments_lexer": "ipython3",
   "version": "3.10.4"
  },
  "orig_nbformat": 4,
  "vscode": {
   "interpreter": {
    "hash": "3ad933181bd8a04b432d3370b9dc3b0662ad032c4dfaa4e4f1596c548f763858"
   }
  }
 },
 "nbformat": 4,
 "nbformat_minor": 2
}
