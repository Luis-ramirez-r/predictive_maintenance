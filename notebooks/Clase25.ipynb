{
 "cells": [
  {
   "cell_type": "code",
   "execution_count": 1,
   "metadata": {},
   "outputs": [],
   "source": [
    "import polars as pl \n",
    "import numpy as np\n",
    "import pandas as pd\n",
    "from os import path, listdir\n",
    "from os.path import join, isfile"
   ]
  },
  {
   "cell_type": "code",
   "execution_count": 3,
   "metadata": {},
   "outputs": [
    {
     "data": {
      "text/plain": [
       "['/workspaces/predictive_maintenance/data/raw/PdM_failures.parquet',\n",
       " '/workspaces/predictive_maintenance/data/raw/PdM_machines.parquet',\n",
       " '/workspaces/predictive_maintenance/data/raw/PdM_errors.parquet',\n",
       " '/workspaces/predictive_maintenance/data/raw/PdM_maint.parquet',\n",
       " '/workspaces/predictive_maintenance/data/raw/PdM_telemetry.parquet']"
      ]
     },
     "execution_count": 3,
     "metadata": {},
     "output_type": "execute_result"
    }
   ],
   "source": [
    "datadir = '/workspaces/predictive_maintenance/data/raw'\n",
    "listdir(datadir)\n",
    "files_path  = [join(datadir, f) for f in listdir(datadir) if '.parquet' in f]\n",
    "\n",
    "files_path"
   ]
  },
  {
   "cell_type": "code",
   "execution_count": 4,
   "metadata": {},
   "outputs": [],
   "source": [
    "# read each parquet file with polars \n",
    "df1 = pl.read_parquet(files_path[0])\n",
    "df2 = pl.read_parquet(files_path[1])\n",
    "df3 = pl.read_parquet(files_path[2])\n",
    "df4 = pl.read_parquet(files_path[3])\n",
    "df5 = pl.read_parquet(files_path[4])\n"
   ]
  },
  {
   "cell_type": "code",
   "execution_count": 19,
   "metadata": {},
   "outputs": [],
   "source": [
    "# save each polars dataframe as a csv file with the original name\n",
    "df1.write_csv(files_path[0].replace('.parquet', '.csv'))\n",
    "df2.write_csv(files_path[1].replace('.parquet', '.csv'))\n",
    "df3.write_csv(files_path[2].replace('.parquet', '.csv'))\n",
    "df4.write_csv(files_path[3].replace('.parquet', '.csv'))\n",
    "df5.write_csv(files_path[4].replace('.parquet', '.csv'))\n"
   ]
  },
  {
   "cell_type": "code",
   "execution_count": 7,
   "metadata": {},
   "outputs": [],
   "source": [
    "# read each parquet file with polars \n",
    "df1 = pd.read_parquet(files_path[0])\n",
    "df2 = pd.read_parquet(files_path[1])\n",
    "df3 = pd.read_parquet(files_path[2])\n",
    "df4 = pd.read_parquet(files_path[3])\n",
    "df5 = pd.read_parquet(files_path[4])"
   ]
  },
  {
   "cell_type": "code",
   "execution_count": 12,
   "metadata": {},
   "outputs": [],
   "source": [
    "df1.to_csv(files_path[0].replace('.parquet', '.csv'),header=False, index=False)\n",
    "df2.to_csv(files_path[1].replace('.parquet', '.csv'),header=False, index=False)\n",
    "df3.to_csv(files_path[2].replace('.parquet', '.csv'),header=False, index=False)\n",
    "df4.to_csv(files_path[3].replace('.parquet', '.csv'),header=False, index=False)\n",
    "df5.to_csv(files_path[4].replace('.parquet', '.csv'),header=False, index=False)\n"
   ]
  },
  {
   "cell_type": "code",
   "execution_count": 23,
   "metadata": {},
   "outputs": [
    {
     "data": {
      "text/html": [
       "<div>\n",
       "<style scoped>\n",
       "    .dataframe tbody tr th:only-of-type {\n",
       "        vertical-align: middle;\n",
       "    }\n",
       "\n",
       "    .dataframe tbody tr th {\n",
       "        vertical-align: top;\n",
       "    }\n",
       "\n",
       "    .dataframe thead th {\n",
       "        text-align: right;\n",
       "    }\n",
       "</style>\n",
       "<table border=\"1\" class=\"dataframe\">\n",
       "  <thead>\n",
       "    <tr style=\"text-align: right;\">\n",
       "      <th></th>\n",
       "      <th>datetime</th>\n",
       "      <th>machineID</th>\n",
       "      <th>volt</th>\n",
       "      <th>rotate</th>\n",
       "      <th>pressure</th>\n",
       "      <th>vibration</th>\n",
       "    </tr>\n",
       "  </thead>\n",
       "  <tbody>\n",
       "    <tr>\n",
       "      <th>0</th>\n",
       "      <td>2015-01-01 06:00:00</td>\n",
       "      <td>1</td>\n",
       "      <td>176.217853</td>\n",
       "      <td>418.504078</td>\n",
       "      <td>113.077935</td>\n",
       "      <td>45.087686</td>\n",
       "    </tr>\n",
       "    <tr>\n",
       "      <th>1</th>\n",
       "      <td>2015-01-01 07:00:00</td>\n",
       "      <td>1</td>\n",
       "      <td>162.879223</td>\n",
       "      <td>402.747490</td>\n",
       "      <td>95.460525</td>\n",
       "      <td>43.413973</td>\n",
       "    </tr>\n",
       "    <tr>\n",
       "      <th>2</th>\n",
       "      <td>2015-01-01 08:00:00</td>\n",
       "      <td>1</td>\n",
       "      <td>170.989902</td>\n",
       "      <td>527.349825</td>\n",
       "      <td>75.237905</td>\n",
       "      <td>34.178847</td>\n",
       "    </tr>\n",
       "    <tr>\n",
       "      <th>3</th>\n",
       "      <td>2015-01-01 09:00:00</td>\n",
       "      <td>1</td>\n",
       "      <td>162.462833</td>\n",
       "      <td>346.149335</td>\n",
       "      <td>109.248561</td>\n",
       "      <td>41.122144</td>\n",
       "    </tr>\n",
       "    <tr>\n",
       "      <th>4</th>\n",
       "      <td>2015-01-01 10:00:00</td>\n",
       "      <td>1</td>\n",
       "      <td>157.610021</td>\n",
       "      <td>435.376873</td>\n",
       "      <td>111.886648</td>\n",
       "      <td>25.990511</td>\n",
       "    </tr>\n",
       "    <tr>\n",
       "      <th>...</th>\n",
       "      <td>...</td>\n",
       "      <td>...</td>\n",
       "      <td>...</td>\n",
       "      <td>...</td>\n",
       "      <td>...</td>\n",
       "      <td>...</td>\n",
       "    </tr>\n",
       "    <tr>\n",
       "      <th>876095</th>\n",
       "      <td>2016-01-01 02:00:00</td>\n",
       "      <td>100</td>\n",
       "      <td>179.438162</td>\n",
       "      <td>395.222827</td>\n",
       "      <td>102.290715</td>\n",
       "      <td>50.771941</td>\n",
       "    </tr>\n",
       "    <tr>\n",
       "      <th>876096</th>\n",
       "      <td>2016-01-01 03:00:00</td>\n",
       "      <td>100</td>\n",
       "      <td>189.617555</td>\n",
       "      <td>446.207972</td>\n",
       "      <td>98.180607</td>\n",
       "      <td>35.123072</td>\n",
       "    </tr>\n",
       "    <tr>\n",
       "      <th>876097</th>\n",
       "      <td>2016-01-01 04:00:00</td>\n",
       "      <td>100</td>\n",
       "      <td>192.483414</td>\n",
       "      <td>447.816524</td>\n",
       "      <td>94.132837</td>\n",
       "      <td>48.314561</td>\n",
       "    </tr>\n",
       "    <tr>\n",
       "      <th>876098</th>\n",
       "      <td>2016-01-01 05:00:00</td>\n",
       "      <td>100</td>\n",
       "      <td>165.475310</td>\n",
       "      <td>413.771670</td>\n",
       "      <td>104.081073</td>\n",
       "      <td>44.835259</td>\n",
       "    </tr>\n",
       "    <tr>\n",
       "      <th>876099</th>\n",
       "      <td>2016-01-01 06:00:00</td>\n",
       "      <td>100</td>\n",
       "      <td>171.336037</td>\n",
       "      <td>496.096870</td>\n",
       "      <td>79.095538</td>\n",
       "      <td>37.845245</td>\n",
       "    </tr>\n",
       "  </tbody>\n",
       "</table>\n",
       "<p>876100 rows × 6 columns</p>\n",
       "</div>"
      ],
      "text/plain": [
       "                   datetime  machineID        volt      rotate    pressure  \\\n",
       "0       2015-01-01 06:00:00          1  176.217853  418.504078  113.077935   \n",
       "1       2015-01-01 07:00:00          1  162.879223  402.747490   95.460525   \n",
       "2       2015-01-01 08:00:00          1  170.989902  527.349825   75.237905   \n",
       "3       2015-01-01 09:00:00          1  162.462833  346.149335  109.248561   \n",
       "4       2015-01-01 10:00:00          1  157.610021  435.376873  111.886648   \n",
       "...                     ...        ...         ...         ...         ...   \n",
       "876095  2016-01-01 02:00:00        100  179.438162  395.222827  102.290715   \n",
       "876096  2016-01-01 03:00:00        100  189.617555  446.207972   98.180607   \n",
       "876097  2016-01-01 04:00:00        100  192.483414  447.816524   94.132837   \n",
       "876098  2016-01-01 05:00:00        100  165.475310  413.771670  104.081073   \n",
       "876099  2016-01-01 06:00:00        100  171.336037  496.096870   79.095538   \n",
       "\n",
       "        vibration  \n",
       "0       45.087686  \n",
       "1       43.413973  \n",
       "2       34.178847  \n",
       "3       41.122144  \n",
       "4       25.990511  \n",
       "...           ...  \n",
       "876095  50.771941  \n",
       "876096  35.123072  \n",
       "876097  48.314561  \n",
       "876098  44.835259  \n",
       "876099  37.845245  \n",
       "\n",
       "[876100 rows x 6 columns]"
      ]
     },
     "execution_count": 23,
     "metadata": {},
     "output_type": "execute_result"
    }
   ],
   "source": [
    "df5\n",
    "\n"
   ]
  },
  {
   "cell_type": "code",
   "execution_count": null,
   "metadata": {},
   "outputs": [],
   "source": []
  }
 ],
 "metadata": {
  "kernelspec": {
   "display_name": "Python 3",
   "language": "python",
   "name": "python3"
  },
  "language_info": {
   "codemirror_mode": {
    "name": "ipython",
    "version": 3
   },
   "file_extension": ".py",
   "mimetype": "text/x-python",
   "name": "python",
   "nbconvert_exporter": "python",
   "pygments_lexer": "ipython3",
   "version": "3.10.4 (main, Dec 19 2022, 20:24:16) [GCC 9.4.0]"
  },
  "orig_nbformat": 4,
  "vscode": {
   "interpreter": {
    "hash": "3ad933181bd8a04b432d3370b9dc3b0662ad032c4dfaa4e4f1596c548f763858"
   }
  }
 },
 "nbformat": 4,
 "nbformat_minor": 2
}
