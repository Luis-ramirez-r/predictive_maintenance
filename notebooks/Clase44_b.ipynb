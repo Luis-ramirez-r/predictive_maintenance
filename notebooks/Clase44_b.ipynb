{
 "cells": [
  {
   "cell_type": "code",
   "execution_count": 4,
   "metadata": {},
   "outputs": [
    {
     "name": "stdout",
     "output_type": "stream",
     "text": [
      "Requirement already satisfied: imagehash in /usr/local/python/3.10.4/lib/python3.10/site-packages (4.3.1)\n",
      "Requirement already satisfied: PyWavelets in /usr/local/python/3.10.4/lib/python3.10/site-packages (from imagehash) (1.4.1)\n",
      "Requirement already satisfied: scipy in /home/codespace/.local/lib/python3.10/site-packages (from imagehash) (1.9.3)\n",
      "Requirement already satisfied: numpy in /usr/local/python/3.10.4/lib/python3.10/site-packages (from imagehash) (1.21.6)\n",
      "Requirement already satisfied: pillow in /home/codespace/.local/lib/python3.10/site-packages (from imagehash) (9.3.0)\n",
      "\n",
      "\u001b[1m[\u001b[0m\u001b[34;49mnotice\u001b[0m\u001b[1;39;49m]\u001b[0m\u001b[39;49m A new release of pip is available: \u001b[0m\u001b[31;49m23.0\u001b[0m\u001b[39;49m -> \u001b[0m\u001b[32;49m23.0.1\u001b[0m\n",
      "\u001b[1m[\u001b[0m\u001b[34;49mnotice\u001b[0m\u001b[1;39;49m]\u001b[0m\u001b[39;49m To update, run: \u001b[0m\u001b[32;49mpython -m pip install --upgrade pip\u001b[0m\n"
     ]
    }
   ],
   "source": [
    "#!pip install imagehash Pillow \n",
    "#!pip install imagehash "
   ]
  },
  {
   "cell_type": "code",
   "execution_count": 27,
   "metadata": {},
   "outputs": [],
   "source": [
    "import os\n",
    "import glob\n",
    "from PIL import Image\n",
    "import imagehash\n",
    "import numpy as np\n",
    "from scipy.spatial.distance import pdist, squareform\n",
    "from sklearn.cluster import AgglomerativeClustering\n",
    "import pandas as pd "
   ]
  },
  {
   "cell_type": "code",
   "execution_count": 23,
   "metadata": {},
   "outputs": [],
   "source": [
    "\n",
    "\n",
    "# Install the required libraries\n",
    "# !pip install imagehash Pillow scikit-learn\n",
    "\n",
    "def read_images_from_folder(folder_path):\n",
    "    image_paths = glob.glob(os.path.join(folder_path, '*.jpg')) + glob.glob(os.path.join(folder_path, '*.png'))\n",
    "    images = []\n",
    "    for image_path in image_paths:\n",
    "        image = Image.open(image_path)\n",
    "        images.append(image)\n",
    "    return images, image_paths\n",
    "\n",
    "def compute_image_hashes(images):\n",
    "    image_hashes = []\n",
    "    for image in images:\n",
    "        image_hash = imagehash.phash(image)\n",
    "        image_hashes.append(image_hash)\n",
    "    return image_hashes\n",
    "\n",
    "def cluster_images(image_hashes, n_clusters, linkage='ward'):\n",
    "    hash_arrays = [np.array(hash.hash.flatten(), dtype=bool) for hash in image_hashes]\n",
    "    distance_matrix = squareform(pdist(np.stack(hash_arrays), metric='hamming'))\n",
    "    clustering = AgglomerativeClustering(n_clusters=n_clusters, affinity='precomputed', linkage=linkage)\n",
    "    labels = clustering.fit_predict(distance_matrix)\n",
    "    return labels\n",
    "\n",
    "def cluster_images(image_hashes, n_clusters, linkage='average'):\n",
    "    hash_arrays = [np.array(hash.hash.flatten(), dtype=bool) for hash in image_hashes]\n",
    "    distance_matrix = squareform(pdist(np.stack(hash_arrays), metric='hamming'))\n",
    "    clustering = AgglomerativeClustering(n_clusters=n_clusters, affinity='precomputed', linkage=linkage)\n",
    "    labels = clustering.fit_predict(distance_matrix)\n",
    "    return labels\n",
    "\n",
    "\n",
    "def group_images_by_cluster(labels, image_paths):\n",
    "    clusters = {}\n",
    "    for label, image_path in zip(labels, image_paths):\n",
    "        if label not in clusters:\n",
    "            clusters[label] = []\n",
    "        clusters[label].append(image_path)\n",
    "    return clusters\n",
    "\n",
    "def main(folder_path, n_clusters):\n",
    "    images, image_paths = read_images_from_folder(folder_path)\n",
    "    image_hashes = compute_image_hashes(images)\n",
    "    labels = cluster_images(image_hashes, n_clusters)\n",
    "    clusters = group_images_by_cluster(labels, image_paths)\n",
    "    result_df = pd.DataFrame({'image_path': image_paths, 'cluster_label': labels})\n",
    "    return result_df\n",
    "\n",
    "\n",
    "\n"
   ]
  },
  {
   "cell_type": "code",
   "execution_count": 25,
   "metadata": {},
   "outputs": [],
   "source": [
    "pd.set_option('display.max_colwidth', 100)"
   ]
  },
  {
   "cell_type": "code",
   "execution_count": 26,
   "metadata": {},
   "outputs": [
    {
     "name": "stderr",
     "output_type": "stream",
     "text": [
      "/home/codespace/.local/lib/python3.10/site-packages/sklearn/cluster/_agglomerative.py:983: FutureWarning: Attribute `affinity` was deprecated in version 1.2 and will be removed in 1.4. Use `metric` instead\n",
      "  warnings.warn(\n"
     ]
    },
    {
     "data": {
      "text/html": [
       "<div>\n",
       "<style scoped>\n",
       "    .dataframe tbody tr th:only-of-type {\n",
       "        vertical-align: middle;\n",
       "    }\n",
       "\n",
       "    .dataframe tbody tr th {\n",
       "        vertical-align: top;\n",
       "    }\n",
       "\n",
       "    .dataframe thead th {\n",
       "        text-align: right;\n",
       "    }\n",
       "</style>\n",
       "<table border=\"1\" class=\"dataframe\">\n",
       "  <thead>\n",
       "    <tr style=\"text-align: right;\">\n",
       "      <th></th>\n",
       "      <th>image_path</th>\n",
       "      <th>cluster_label</th>\n",
       "    </tr>\n",
       "  </thead>\n",
       "  <tbody>\n",
       "    <tr>\n",
       "      <th>0</th>\n",
       "      <td>/workspaces/predictive_maintenance/data/images/dog.111.jpg</td>\n",
       "      <td>0</td>\n",
       "    </tr>\n",
       "    <tr>\n",
       "      <th>1</th>\n",
       "      <td>/workspaces/predictive_maintenance/data/images/dog.106.jpg</td>\n",
       "      <td>1</td>\n",
       "    </tr>\n",
       "    <tr>\n",
       "      <th>2</th>\n",
       "      <td>/workspaces/predictive_maintenance/data/images/0002.png</td>\n",
       "      <td>0</td>\n",
       "    </tr>\n",
       "  </tbody>\n",
       "</table>\n",
       "</div>"
      ],
      "text/plain": [
       "                                                   image_path  cluster_label\n",
       "0  /workspaces/predictive_maintenance/data/images/dog.111.jpg              0\n",
       "1  /workspaces/predictive_maintenance/data/images/dog.106.jpg              1\n",
       "2     /workspaces/predictive_maintenance/data/images/0002.png              0"
      ]
     },
     "execution_count": 26,
     "metadata": {},
     "output_type": "execute_result"
    }
   ],
   "source": [
    "folder_path = '/workspaces/predictive_maintenance/data/images/'\n",
    "n_clusters = 2\n",
    "main(folder_path, n_clusters)"
   ]
  },
  {
   "cell_type": "code",
   "execution_count": null,
   "metadata": {},
   "outputs": [],
   "source": []
  },
  {
   "cell_type": "code",
   "execution_count": 22,
   "metadata": {},
   "outputs": [
    {
     "name": "stderr",
     "output_type": "stream",
     "text": [
      "/home/codespace/.local/lib/python3.10/site-packages/sklearn/cluster/_agglomerative.py:983: FutureWarning: Attribute `affinity` was deprecated in version 1.2 and will be removed in 1.4. Use `metric` instead\n",
      "  warnings.warn(\n"
     ]
    },
    {
     "data": {
      "text/html": [
       "<div>\n",
       "<style scoped>\n",
       "    .dataframe tbody tr th:only-of-type {\n",
       "        vertical-align: middle;\n",
       "    }\n",
       "\n",
       "    .dataframe tbody tr th {\n",
       "        vertical-align: top;\n",
       "    }\n",
       "\n",
       "    .dataframe thead th {\n",
       "        text-align: right;\n",
       "    }\n",
       "</style>\n",
       "<table border=\"1\" class=\"dataframe\">\n",
       "  <thead>\n",
       "    <tr style=\"text-align: right;\">\n",
       "      <th></th>\n",
       "      <th>image_path</th>\n",
       "      <th>cluster_label</th>\n",
       "    </tr>\n",
       "  </thead>\n",
       "  <tbody>\n",
       "    <tr>\n",
       "      <th>0</th>\n",
       "      <td>/workspaces/predictive_maintenance/data/images...</td>\n",
       "      <td>1</td>\n",
       "    </tr>\n",
       "    <tr>\n",
       "      <th>1</th>\n",
       "      <td>/workspaces/predictive_maintenance/data/images...</td>\n",
       "      <td>0</td>\n",
       "    </tr>\n",
       "  </tbody>\n",
       "</table>\n",
       "</div>"
      ],
      "text/plain": [
       "                                          image_path  cluster_label\n",
       "0  /workspaces/predictive_maintenance/data/images...              1\n",
       "1  /workspaces/predictive_maintenance/data/images...              0"
      ]
     },
     "execution_count": 22,
     "metadata": {},
     "output_type": "execute_result"
    }
   ],
   "source": []
  },
  {
   "cell_type": "code",
   "execution_count": null,
   "metadata": {},
   "outputs": [],
   "source": []
  }
 ],
 "metadata": {
  "kernelspec": {
   "display_name": "Python 3",
   "language": "python",
   "name": "python3"
  },
  "language_info": {
   "codemirror_mode": {
    "name": "ipython",
    "version": 3
   },
   "file_extension": ".py",
   "mimetype": "text/x-python",
   "name": "python",
   "nbconvert_exporter": "python",
   "pygments_lexer": "ipython3",
   "version": "3.10.4"
  },
  "orig_nbformat": 4,
  "vscode": {
   "interpreter": {
    "hash": "3ad933181bd8a04b432d3370b9dc3b0662ad032c4dfaa4e4f1596c548f763858"
   }
  }
 },
 "nbformat": 4,
 "nbformat_minor": 2
}
